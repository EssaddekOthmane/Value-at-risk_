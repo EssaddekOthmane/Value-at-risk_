{
 "cells": [
  {
   "cell_type": "markdown",
   "metadata": {},
   "source": [
    "# Introduction\n",
    "L’objectif de ce travail est d’évaluer la probabilité de ruine en temps fini d'une compagnie d'assurance. On modélise alors la richése détenue par l'assurance au temps t par:\n",
    "\n",
    "$$R_t=u+ct-S_t$$\n",
    "Ou \n",
    "\n",
    "+  $u\\geq0$: La richésse initiale de l'assureur.\n",
    "\n",
    "+ $c\\geq0$: Taux instantané de prime.\n",
    "\n",
    "+ $S_t=\\sum_{i=1}^{N_t}X_i$.\n",
    "\n",
    "+ $X_i$ Montant du i-éme sinistre qui suit une loi de pobabilité, de fonction de répartition $F$.\n",
    "\n",
    "+ $N_t$: Un processus de poisson.\n",
    "\n",
    "On défini alors les probalités de ruine et de survie a horizon fini:\n",
    "$$\\Psi(u,T)=\\mathbf{P}\\left(\\underset{0\\leq t \\leq T}{\\text{inf}}R_t<0\\mid R_0=u\\right)=1-\\Phi(u,T)$$\n",
    "On va voir dans la suite trois méthode pour approcher la probabilité de survie de l'assurance, en premier lieu une methode de type Monte Carlo, en suite on va approcher la probabilité en résolvant une équation  de transport, et finalement on approchera les lois marginales de la probabilité de survie à différents horizons et notament l'horizon T=1."
   ]
  },
  {
   "cell_type": "markdown",
   "metadata": {},
   "source": [
    "# Méthode Monte-Carlo\n",
    "\n",
    "L'idée dériere est de voir la probabilité de survie de la manière suivante:\n",
    "$$\\Phi(u,T)=\\mathbb{P}\\left(\\underset{0\\leq t \\leq T}{\\text{inf}}R_t\\geq0\\mid R_0=u\\right)=\\mathbb{E}\\left[\\mathbb{1}_{\\{\\underset{0\\leq t \\leq T}{\\text{inf}}R_t\\geq0\\}}\\mid R_0=u\\right]$$\n",
    "On approche alors la probabilité de survie, en utilisant l'échatillon $\\left(R_t^1,R_t^2,...,R_t^{n'}\\right)$, $n'$ trajéctoires du processus que suit la richèsse et toutes valant $u$ à l'intant $t=0$. \n",
    "\n",
    "On approxime alors la probabilité de survie par la moyenne:\n",
    "$$S_{n'}=\\frac{1}{n'}\\sum_{i=1}^{n'}\\mathbb{1}_{\\{\\underset{0\\leq t \\leq T}{\\text{inf}}R_t^i\\geq0\\}}$$\n",
    "\n"
   ]
  },
  {
   "cell_type": "markdown",
   "metadata": {},
   "source": [
    "## Résultats numériques\n",
    "\n",
    "**Remarque:** Les méthodes Monte Carlo nous donnent à la fois les prédictions ainsi que les intervales de confiance. On approche la variance des estimations par:\n",
    "$$\\sigma^2_{n'}=\\frac{1}{n'-1}\\sum_{i=1}^{n'}\\left(\\mathbb{1}_{\\{\\underset{0\\leq t \\leq T}{\\text{inf}}R_t^i\\geq0\\}}-S_{n'}\\right)^2$$\n",
    "\n",
    "Et  on estime l'intérval de confiance à $95\\% $ par:\n",
    "$$I=\\left[S_{n'}-\\frac{1.96\\sigma_{n'}}{\\sqrt{n'}} \\text{ , } S_{n'}+\\frac{1.96\\sigma_{n'}}{\\sqrt{n'}}\\right]$$\n",
    "\n",
    "Le choix sur le coup des sinistre a était simuler selon \\textit{la loi exponentielle, la loi de Pareto} et \\textit{ la loi géométrique}. On obtient alors les résultats numériques suivants pour la probabilité de survie de l'assurance:\n",
    "\n",
    "\n",
    "\n",
    "+Pour des sinistres de coût selon *la loi géométrique* de paramètres $p=0.9$:\n",
    "\n",
    "La probabilité de survie est 0.78279, avec un intervale de confiance à 95\\% $ [ 0.780234 , 0.78534]$\n",
    "\n",
    "\n",
    "\n",
    "+ Pour des sinistres de coût selon *la loi exponentielle* de paramètre $\\mu=1$: \n",
    "\n",
    "La probabilité de survie est 0.698, avec un intervale de confiance à 95\\% $ [ 0.6955 , 0.7011 ]$\n",
    "\n",
    "\n",
    "\n",
    "+Pour des sinistres de coût selon *la loi de Pareto* de paramètres $a=3,b=3$:\n",
    "\n",
    "La probabilité de survie est 0.552, avec un intervale de confiance à 95\\% $[ 0.5490, 0.5552]$\n",
    "\n",
    "\n",
    "\n",
    "\n",
    "\n",
    "\n",
    "\n"
   ]
  },
  {
   "cell_type": "code",
   "execution_count": 90,
   "metadata": {},
   "outputs": [
    {
     "name": "stdout",
     "output_type": "stream",
     "text": [
      "0.67902\n",
      "0.67902 0.2179540191401914 [ 0.6761263998895338 , 0.6819136001104661 ]\n"
     ]
    }
   ],
   "source": [
    "import numpy as np\n",
    "import matplotlib.pyplot as plt\n",
    "from random import random\n",
    "import math\n",
    "from math import exp\n",
    "\n",
    "\n",
    "n = 100000\n",
    "a=3\n",
    "b=3.\n",
    "to=0.8\n",
    "  #richesse initiale\n",
    "t_final = 1.\n",
    "lambdaa = 5.\n",
    "mu = 1\n",
    "Ee=1./mu\n",
    "Eg=1/0.9\n",
    "Ep=a*b/(b-1)\n",
    "cp =  (1+to)*lambdaa*Ee#lambdaa*Ee-(lambdaa*Ee/1.5)#1. #montant des primes d'assurances, Le 'to' est expliqué dans la derniére partie\n",
    "#cp=(1+to)*lambdaa*Ep\n",
    "\n",
    "u_ini =Ee\n",
    "\n",
    "\n",
    "survie = []\n",
    "U=[]\n",
    "for _ in range(n):\n",
    "    \n",
    "    u = u_ini\n",
    "    T = -np.log(random())/lambdaa\n",
    "    t = T\n",
    "    while u>=0 and t<t_final:\n",
    "        \n",
    "        S =-np.log(random())/mu#np.random.geometric(0.9)#b/(np.random.uniform()**(1/a))#-np.log(random())/mu\n",
    "        u += cp*T-S\n",
    "        T = -np.log(random())/lambdaa \n",
    "        t += T\n",
    "    if u>=0.:\n",
    "        survie.append(1)\n",
    "    else:\n",
    "        survie.append(0)\n",
    "\n",
    "moy=np.mean(survie)\n",
    "print(np.mean(survie))\n",
    "\n",
    "var=[(survie[i]-moy)**2 for i in range(len(survie))]\n",
    "\n",
    "V=np.sum(var)/(n-1)\n",
    "\n",
    "ecart = 1.96*math.sqrt(V/n)\n",
    "\n",
    "print(moy,V,'[',moy-ecart,',',moy+ecart,']')\n",
    "\n"
   ]
  },
  {
   "cell_type": "markdown",
   "metadata": {},
   "source": [
    "## Convergence vers la probabilité de survie\n",
    "\n",
    "Les graphiques suivants illustrent la convergence de $S_{n'}$ vers $\\Phi(u,T)$ quand $n'$ tend vers l'infini.\n"
   ]
  },
  {
   "cell_type": "code",
   "execution_count": 24,
   "metadata": {},
   "outputs": [
    {
     "data": {
      "text/plain": [
       "[<matplotlib.lines.Line2D at 0x217026ca908>]"
      ]
     },
     "execution_count": 24,
     "metadata": {},
     "output_type": "execute_result"
    },
    {
     "data": {
      "image/png": "[encoded data removed]",
      "text/plain": [
       "<Figure size 432x288 with 1 Axes>"
      ]
     },
     "metadata": {
      "needs_background": "light"
     },
     "output_type": "display_data"
    }
   ],
   "source": [
    "\n",
    "# a=3\n",
    "# b=3.\n",
    "# to=0.9\n",
    "#   #richesse initiale\n",
    "# t_final = 1.\n",
    "# lambdaa = 5.\n",
    "# mu = 1\n",
    "# Ee=1./mu\n",
    "# Eg=1/0.9\n",
    "# Ep=a*b/(b-1)\n",
    "c =  (1+to)*lambdaa*Ee#lambdaa*Ee-(lambdaa*Ee/1.5)#1. #montant des primes d'assurances\n",
    "\n",
    "\n",
    "u_ini =Ee\n",
    "\n",
    "\n",
    "\n",
    "def cnv(n):\n",
    "    \n",
    "        \n",
    "    survie = []\n",
    "    for i in range(n):\n",
    "        \n",
    "        u = u_ini\n",
    "        T = -np.log(random())/lambdaa\n",
    "        t = T\n",
    "        while u>=0 and t<t_final:\n",
    "            \n",
    "            S = np.random.geometric(0.9)#♣b/(random()**(1/a))-np.log(random())/mu\n",
    "            u += c*T-S\n",
    "            T = -np.log(random())/lambdaa \n",
    "            t += T\n",
    "        if u>=0.:\n",
    "            survie.append(1)\n",
    "        else:\n",
    "            survie.append(0)\n",
    "    return(np.mean(survie))\n",
    "\n",
    "\n",
    "N=[n for n in range(1000)]\n",
    "P=[cnv(N[i]) for i in range(1000) ]\n",
    "plt.plot(P,'grey')"
   ]
  },
  {
   "cell_type": "markdown",
   "metadata": {},
   "source": [
    "# méthode déterministe\n",
    "On peut montrer que la probabilité de survie est solution de l'equation de transfert suivante:\n",
    "$$\\partial_t\\Phi(u,t)=c\\partial_u\\Phi(u,t)-\\lambda\\Phi(u,t)+\\lambda\\int_0^u\\Phi(u-y,t)dF(y) \\text{  } (1)$$\n",
    "On va alors faire une approche détérministe pour éstimer la probabilitée de survie\n",
    "## Discrétisation de type volumes finis\n",
    "On présente alors le schéma discrétisé de l'équation précèdante\n",
    "$$\\Phi^{n+1}_i=\\Phi^n_{i+1}-\\lambda\\delta t\\Phi^n_i+\\lambda\\delta t\\sum_{j=1}^{i-1}\\Phi^n_{i-1-j}\\left(F\\left((j+1)\\delta u\\right)-F(j\\delta u)\\right)$$\n",
    "Avec $\\Phi^n_i$ : l'approximation au temps $n\\delta t$ de $\\Phi$ sur l'ouvert $ ]i\\delta u ,(i+1)\\delta u[$, avec la condition $\\delta t=c\\delta u$.\n",
    "## Application numériques\n",
    "Pour faire une comparaison avec la méthode Monte-Carlo, on s'intérèsse à $\\Phi^N(u_0)$.\n",
    "\n",
    "Avec $\\Phi^N(u_0)$, l'approximation de $\\Phi$ sur l'ouvert qui contient $u_0$ à l'instant finale.\n",
    "\n",
    "## Résultats numériques\n",
    "On prenant les même condition qu'avant, on trouve les résultats suivants pour les trois types de coût:\n",
    "\n",
    "*Loi exponentielle*: 0.6828\n",
    "\n",
    "*Loi de Pareto*: 0.557\n",
    "\n",
    "*Loi géométrique*: 0.7785\n",
    "\n"
   ]
  },
  {
   "cell_type": "code",
   "execution_count": 58,
   "metadata": {},
   "outputs": [
    {
     "data": {
      "text/plain": [
       "1.0"
      ]
     },
     "execution_count": 58,
     "metadata": {},
     "output_type": "execute_result"
    }
   ],
   "source": [
    "Ee\n"
   ]
  },
  {
   "cell_type": "code",
   "execution_count": null,
   "metadata": {},
   "outputs": [],
   "source": []
  },
  {
   "cell_type": "code",
   "execution_count": 93,
   "metadata": {},
   "outputs": [
    {
     "name": "stdout",
     "output_type": "stream",
     "text": [
      "8 621\n",
      "6.21 0.6650452510918758\n"
     ]
    },
    {
     "data": {
      "image/png": "[encoded data removed]",
      "text/plain": [
       "<Figure size 432x288 with 1 Axes>"
      ]
     },
     "metadata": {
      "needs_background": "light"
     },
     "output_type": "display_data"
    }
   ],
   "source": [
    "# to=0.9\n",
    "# Ee=1./mu\n",
    "# Eg=1/0.9\n",
    "# Ep=a*b/(b-1)\n",
    "# lambdaa=5\n",
    "\n",
    "N = 2000\n",
    "deltau = .01\n",
    "# c = 1.\n",
    "\n",
    "\n",
    "\n",
    "deltat = c*deltau\n",
    "phi = [1. for _ in range(N)]\n",
    "lambd = 5.\n",
    "lambdt = lambd*deltat\n",
    "X = [(i+0.)*deltau for i in range(N)]\n",
    "mu = 1.\n",
    "dF = [lambdt*( exp(-mu*X[i]) - exp(-mu*X[i+1])) for i in range(N-1)]\n",
    "dFp = [lambdt*( 0.1**X[i] - 0.1**X[i+1]) for i in range(N-1)]\n",
    "\n",
    "\n",
    "\n",
    "\n",
    "t = 0.\n",
    "\n",
    "while t<t_final:\n",
    "    t+= deltat\n",
    "    phin = phi.copy()\n",
    "    for i in range(N-1):\n",
    "        phi[i] = phin[i+1] - lambdt*phin[i] + sum([phin[i-j-1]*dF[j] for j in range(i)])\n",
    "    #plt.plot(X,phi)\n",
    "    \n",
    "#plt.show()\n",
    "#print(phi)\n",
    "xx=0\n",
    "pos=[]\n",
    "i=0\n",
    "while(i<len(X)):\n",
    "    #print(int(X[i])-int(u_ini))\n",
    "    if (int(abs(X[i]-c*to))==0):\n",
    "        xx=X[i]\n",
    "        pos.append(i)\n",
    "    i=i+1\n",
    "\n",
    "    \n",
    "print(int(xx),pos[0])\n",
    "print(X[pos[0]],phi[pos[0]])\n",
    "plt.plot(X,phi,'black') \n",
    "plt.show()    \n",
    "    \n",
    "#print(X)"
   ]
  },
  {
   "cell_type": "code",
   "execution_count": 60,
   "metadata": {},
   "outputs": [
    {
     "data": {
      "text/plain": [
       "100.0"
      ]
     },
     "execution_count": 60,
     "metadata": {},
     "output_type": "execute_result"
    }
   ],
   "source": [
    "\n"
   ]
  },
  {
   "cell_type": "markdown",
   "metadata": {},
   "source": [
    "# Approximation des mesures marginales\n",
    "\n",
    "Soit $t\\geq0$, $\\mu_t$ une mesure de probabilité sur $\\mathbb{R}_+$ et telle que :\n",
    "$$\\mathbb{P}\\left(R_t>0\\right)=\\int_{\\mathbb{R}_+}d\\mu_t$$\n",
    "Soit $E\\in\\mathcal{P}(\\mathbb{R}_+)$ une partie mesurable, on a alors\n",
    "\\begin{align*}\n",
    "\\mathbb{P}\\left(R_{t+h}\\in E\\right) &= \\mathbb{P}(N_{t+h}-N_t=0)\\mathbb{P}\\left(R_{t}\\in \\tau_{-ch}(E)\\right)+\\mathbb{P}(N_{t+h}-N_t=1)\\mathbb{P}\\left(R_{t+h}\\in \\tau_{X}(E),X\\right) \\\\\n",
    "&=(1-\\lambda h)\\mathbb{P}\\left(R_{t}\\in \\tau_{-ch}(E)\\right)+\\lambda h\\mathbb{P}\\left(R_{t+h}\\in \\tau_{X}(E),X\\right)  \n",
    "\\end{align*}\n",
    "Ou $\\tau_{_{-ch}}(E):=\\{r\\in\\mathbb{R} \\text{ ; } r+ch\\in E\\}$ et $X$ suit la même loi du montant des sinistres.\\\\\n",
    "\n",
    "On peut voir alors que\n",
    "$$\\int_{\\mathbb{R}_+}\\mathbf{1}_E(s)d\\mu_{t+h}(s)=(1-\\lambda h)\\int_{\\mathbb{R}_+}\\mathbf{1}_E(s+ch)d\\mu_{t}(s)+\\lambda h \\int_{\\mathbb{R}}\\int_{\\mathbb{R}_+}\\mathbf{1}_E(s-u)d\\mu_{t}(s)dF(y)$$\n",
    "\n",
    "\n",
    "\n",
    "Soit $(E_i)_{i\\geq0}$ une partition de $[0 , N]$, et $\\phi\\in\\mathcal{C}_c^1(\\mathbb{R})$ telle que $\\phi=\\sum_{i\\in I}\\phi_i\\mathbf{1}_{E_i}$, avec $(\\phi_i)_{i\\in I}$ des fonctions telles que $\\forall i \\in I$, $\\phi_i\\in\\mathcal{C}_c^1(\\mathbb{R})$. On a alors, en faisant tendre $h$ vers $0$\n",
    "$$\\partial_t\\int_{\\mathbb{R}_+}\\phi(s)d\\mu_{t}(s)=c\\int_{\\mathbb{R}_+}\\phi'(s)d\\mu_{t}(s)-\\lambda\\int_{\\mathbb{R}_+}\\phi(s)d\\mu_{t}(s)+\\lambda\\int_{\\mathbb{R}}\\int_{\\mathbb{R}_+}\\phi(s-y)d\\mu_{t}(s)dF(y)\\text{  } (2)$$\n",
    "Et $d\\mu_0=\\delta_u$\n",
    "\n",
    "\n",
    "*Remarque:* $\\mu_.(.)$ est alors solution faible de l'équation (1)\n",
    "\n",
    "## Schéma de Volumes finis pour approcher $\\mu$\n",
    "Au temps $t_n=\\frac{nh}{c}$, on approche  $d\\mu_{t_n}$ par une densité constante par morceaux $(U^n_i)_{i\\in\\mathbb{N}}$. \n",
    "\n",
    "On a alors pour $i \\in \\mathbb{N}$ et $t\\in\\left](n-1)\\frac{h}{c} \\text{ , } n\\frac{h}{c}\\right]$\n",
    "$$U_i^n\\cong \\frac{1}{h}\\int_{ih}^{(i+1)h}d\\mu t=\\frac{1}{h}\\mathbb{P}\\left(R_t\\in[ih , (i+1)h[\\right)$$\n",
    "Donc\n",
    "$$h\\sum_{i\\in\\mathbb{N}}U_i^n\\cong \\sum_{i\\in\\mathbb{N}}\\int_{ih}^{(i+1)h}d\\mu t=\\int_{\\mathbb{R}_+}d\\mu_t=\\mathbb{P}\\left(R_t>0\\right)$$\n",
    "La discretisation de l'équation (2) se fait de la manière suivante:\n",
    "### Initialisation en temps\n",
    "Au temps $t_0=0$ on approche $d\\mu_0=\\delta_u$ par $(U_i^0)_{i\\in\\mathbb{N}}$, ou pour $i\\in\\mathbb{N}$\n",
    "$$U_i^0=\\frac{u_0}{h}\\mathbf{1}_{\\{u_0\\in[ih , (i+1)h[\\}}$$\n",
    "### Avancement temporel\n",
    "On utilise le schéma suivant pour les pas de temps: Pour $n\\geq 0$\n",
    "$$U^{n+1}_i=\\frac{1}{1+\\delta t}\\left(U_{i-1}^n+\\delta t \\lambda\\sum_{j\\in\\mathbb{N}}U^n_{i+j}(F((j+1)h)-F(jh))\\right)$$\n",
    "## Résultats numériques:\n",
    "On obtient une probabilité de survie pour les trois types de sinistres:\n",
    "\n",
    "\n",
    "*Loi exponentielle*: 0.6971\n",
    "\n",
    "*Loi de Pareto* :0.5496\n",
    "\n",
    "*Loi géométrique*: 0.7862\n"
   ]
  },
  {
   "cell_type": "code",
   "execution_count": null,
   "metadata": {},
   "outputs": [],
   "source": [
    "deltau = .025 #le pas de la discretisation des richeses initiales X\n",
    "c = 1.\n",
    "tfinal = 10.                     # horizon avant ruine\n",
    "uini = 4.                       # richese initiale\n",
    "iini = int(uini/deltau)    # u/h\n",
    "deltat = c*deltau       #pas de temps\n",
    "N = iini+ int( tfinal/deltat)+2 # \n",
    "\n",
    "u = [0. for _ in range(N)]    # mesure discrete\n",
    "\n",
    "u[iini] = 1./deltau   # initialisation pout t=0\n",
    "\n",
    "lambd = 1.\n",
    "lambdt = lambd*deltat\n",
    "uplambdt = 1./(1. + lambdt ) \n",
    "\n",
    "X = [i*deltau for i in range(N+2)] #discretisation de l'espace oracle\n",
    "mu = 1.\n",
    "dF = [lambdt*( exp(-mu*X[i]) - exp(-mu*X[i+1])) for i in range(N+1)]\n",
    "\n",
    "Xplot = X[0:N]\n",
    "\n",
    "t = 0.\n",
    "Nmax = iini+1 #condition  <\n",
    "j=0\n",
    "conv=[]\n",
    "while t<tfinal:\n",
    "    t+= deltat\n",
    "    Nmax +=1\n",
    "    un = u.copy()\n",
    "    i=0\n",
    "    \n",
    "    u[i] = uplambdt * sum([un[i+j]*dF[j] for j in range(Nmax-i)])\n",
    "    \n",
    "    for i in range(Nmax):\n",
    "\n",
    "        u[i] = uplambdt * (un[i-1]  + sum([un[i+j]*dF[j] for j in range(Nmax-i)]))\n",
    "        \n",
    "       # phi[i] = phin[i+1] - lambdt*phin[i] + sum([phin[i-j-1]*dF[j] for j in range(i)])\n",
    "   \n",
    "    if(j%10==0): \n",
    "        if( 200<j<400 ):\n",
    "\n",
    "            plt.plot(Xplot,[i*1 for i in u])\n",
    "            #/print(u)\n",
    "     #print(sum(u)*deltau)\n",
    "    j=j+1\n",
    "    conv.append(sum(u)*deltau)\n",
    "\n",
    "plt.show()\n",
    "print(\" survie \",sum(u)*deltau)\n",
    "\n",
    "plt.plot(Xplot,u)    \n",
    "plt.show()"
   ]
  },
  {
   "cell_type": "markdown",
   "metadata": {},
   "source": [
    "## Taux de profit\n",
    "\n",
    "L'ésperance du processus $(R_t-u_0)_{t\\geq0}$ est linéaire en fonction de $t$, en effet\n",
    "\n",
    "\\begin{align*}\n",
    "\\mathbb{E}\\left[R_t-u_0\\right]&=ct-\\mathbb{E}[N_t]\\mathbb{E}[X]\\\\\n",
    "&=(c-\\lambda\\mathbb{E}[X])\\\\\n",
    "&=pt\n",
    "\\end{align*}\n",
    "Le coefficient relatif de sécurité est le rapport du profit et du risque par unité de temps, que  l’on rapporte au risque par unité de temps :\n",
    "\n",
    "$$\\theta=\\frac{c-\\lambda\\mathbb{E}[X]}{\\lambda\\mathbb{E}[X]}=\\frac{p}{\\lambda\\mathbb{E}[X]}$$\n",
    "\n",
    "Le taux des primes pourrait etre décomposé de la manière suivante :\n",
    "\n",
    "$$c =\\mathbb{E}[S_T] + p = (1 + \\theta)\\lambda\\mathbb{E}[X]$$\n",
    "\n",
    "Si le taux de profit $p=cT-\\mathbb{E}[S_T]=c-\\lambda\\mathbb{E}[X]$ est négatif \\textit{($\\theta\\in]-1,0]$)}, alors la ruine de la compagnie est certaine, le cas le plus pratique est donc quand le taux de profit est positif.\n",
    "## Application numérique\n",
    "On prend alors $\\theta\\in]-1,1[$  et on regarde la probabilité de survie dans les trois types de sinistres en fonction de $\\theta$\n"
   ]
  },
  {
   "cell_type": "code",
   "execution_count": 94,
   "metadata": {},
   "outputs": [
    {
     "data": {
      "text/plain": [
       "[<matplotlib.lines.Line2D at 0x217040d5630>]"
      ]
     },
     "execution_count": 94,
     "metadata": {},
     "output_type": "execute_result"
    },
    {
     "data": {
      "image/png": "[encoded data removed]",
      "text/plain": [
       "<Figure size 432x288 with 1 Axes>"
      ]
     },
     "metadata": {
      "needs_background": "light"
     },
     "output_type": "display_data"
    }
   ],
   "source": [
    "def theta():\n",
    "    \n",
    "    Te=np.linspace(-0.99,0.99,20)\n",
    "    n = 100000\n",
    "    #to=-0.99\n",
    "      #richesse initiale\n",
    "    t_final = 1.\n",
    "    lambdaa = 5.\n",
    "    mu = 1.5\n",
    "    Ee=1./mu\n",
    "   \n",
    "    a=3\n",
    "    b=3.\n",
    "    Ep=a*b/(b-1)\n",
    "    Eg=1/0.9\n",
    "    u_ini =Eg\n",
    "    P=[]\n",
    "    for t in Te:\n",
    "        c =(1+t)*lambdaa*Eg# (1+t)*lambdaa*Ee#lambdaa*Ee-(lambdaa*Ee/1.5)#1. #montant des primes d'assurances\n",
    "        \n",
    "        survie = []\n",
    "        \n",
    "\n",
    "        for _ in range(n):\n",
    "            \n",
    "            u = u_ini\n",
    "            T = -np.log(random())/lambdaa\n",
    "            t = T\n",
    "            while u>=0 and t<t_final:\n",
    "                \n",
    "                S =np.random.geometric(0.9)#-np.log(random())/mu# b/(np.random.uniform()**(1/a))#-np.log(random())/mu\n",
    "                u += c*T-S\n",
    "                T = -np.log(random())/lambdaa \n",
    "                t += T\n",
    "            if u>=0.:\n",
    "                survie.append(1)\n",
    "            else:\n",
    "                survie.append(0)\n",
    "                \n",
    "        P.append(np.mean(survie))\n",
    "         \n",
    "    return(Te,P)      \n",
    " \n",
    "                     \n",
    "(T,P)=theta()          \n",
    "            \n",
    "plt.plot(T,P,'black')          "
   ]
  },
  {
   "cell_type": "code",
   "execution_count": null,
   "metadata": {},
   "outputs": [],
   "source": []
  }
 ],
 "metadata": {
  "kernelspec": {
   "display_name": "Python 3",
   "language": "python",
   "name": "python3"
  },
  "language_info": {
   "codemirror_mode": {
    "name": "ipython",
    "version": 3
   },
   "file_extension": ".py",
   "mimetype": "text/x-python",
   "name": "python",
   "nbconvert_exporter": "python",
   "pygments_lexer": "ipython3",
   "version": "3.7.1"
  }
 },
 "nbformat": 4,
 "nbformat_minor": 2
}
